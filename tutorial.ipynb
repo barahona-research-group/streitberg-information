{
 "cells": [
  {
   "cell_type": "code",
   "execution_count": null,
   "metadata": {},
   "outputs": [],
   "source": [
    "import numpy as np\n",
    "from tqdm import tqdm \n",
    "from collections import defaultdict\n",
    "\n",
    "# package for computing the Tsallis-alpha divergence, building block for the information measures\n",
    "from ite.cost.x_factory import co_factory\n",
    "# specify the divergence type\n",
    "cost_name = 'BDTsallis_KnnK'\n",
    "# specify alpha -- a parameter in the Tsallis divergence, \n",
    "# specify k -- the number of nearest neighbors for estimating the divergence\n",
    "co = co_factory(cost_name, mult=True, alpha=0.5, k=30) "
   ]
  },
  {
   "cell_type": "code",
   "execution_count": null,
   "metadata": {},
   "outputs": [
    {
     "name": "stderr",
     "output_type": "stream",
     "text": [
      "100%|██████████| 5/5 [00:32<00:00,  6.46s/it]\n"
     ]
    }
   ],
   "source": [
    "from synthetic_data import generate_normal_4\n",
    "from hoi_info import Streitberg_4\n",
    "\n",
    "result = []\n",
    "ds = np.arange(0.5, 1, 0.1)\n",
    "for d in tqdm(ds):\n",
    "    divs = 0\n",
    "    for i in np.arange(100):\n",
    "        # the shape of X is (n_samples, n_variables)\n",
    "        X = generate_normal_4(d=d, n_samples=500, fac=4)\n",
    "        div = Streitberg_4(X, co.estimation)\n",
    "        divs += div\n",
    "    result.append(divs/100)"
   ]
  },
  {
   "cell_type": "code",
   "execution_count": null,
   "metadata": {},
   "outputs": [],
   "source": []
  }
 ],
 "metadata": {
  "kernelspec": {
   "display_name": "info_measure",
   "language": "python",
   "name": "python3"
  },
  "language_info": {
   "codemirror_mode": {
    "name": "ipython",
    "version": 3
   },
   "file_extension": ".py",
   "mimetype": "text/x-python",
   "name": "python",
   "nbconvert_exporter": "python",
   "pygments_lexer": "ipython3",
   "version": "3.9.18"
  }
 },
 "nbformat": 4,
 "nbformat_minor": 2
}
